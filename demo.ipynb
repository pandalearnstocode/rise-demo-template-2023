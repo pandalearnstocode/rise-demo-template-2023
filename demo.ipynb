{
 "cells": [
  {
   "cell_type": "markdown",
   "id": "55e9d3a7",
   "metadata": {
    "slideshow": {
     "slide_type": "slide"
    }
   },
   "source": [
    "# Hello world"
   ]
  },
  {
   "cell_type": "markdown",
   "id": "197abcaa",
   "metadata": {
    "slideshow": {
     "slide_type": "slide"
    }
   },
   "source": [
    "## __H2__"
   ]
  },
  {
   "cell_type": "code",
   "execution_count": null,
   "id": "f906229b",
   "metadata": {},
   "outputs": [],
   "source": []
  }
 ],
 "metadata": {
  "celltoolbar": "Slideshow",
  "kernelspec": {
   "display_name": "Python 3 (ipykernel)",
   "language": "python",
   "name": "python3"
  }
 },
 "nbformat": 4,
 "nbformat_minor": 5
}
